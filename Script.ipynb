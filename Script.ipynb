{
 "cells": [
  {
   "cell_type": "code",
   "execution_count": 42,
   "metadata": {},
   "outputs": [],
   "source": [
    "import pandas as pd\n",
    "from sklearn.feature_extraction.text import CountVectorizer\n",
    "from sklearn.model_selection import train_test_split\n",
    "from nltk.tokenize import word_tokenize\n",
    "from nltk.corpus import stopwords\n",
    "import string\n",
    "from nltk.stem import PorterStemmer\n",
    "from sklearn.svm import SVC\n",
    "from sklearn.naive_bayes import MultinomialNB\n",
    "from sklearn.metrics import accuracy_score, precision_score, recall_score, f1_score, confusion_matrix\n",
    "from tabulate import tabulate\n",
    "from bayes_opt import BayesianOptimization\n",
    "from sklearn.model_selection import GridSearchCV"
   ]
  },
  {
   "cell_type": "code",
   "execution_count": 43,
   "metadata": {},
   "outputs": [],
   "source": [
    "file_path = 'spam.csv'\n",
    "data = pd.read_csv(file_path)\n",
    "data['Category'] = data['Category'].map({'ham': 0, 'spam': 1})\n"
   ]
  },
  {
   "cell_type": "code",
   "execution_count": 44,
   "metadata": {},
   "outputs": [],
   "source": [
    "def clean_text(text):\n",
    "    # Removing punctuation marks and converting to lowercase\n",
    "    return ''.join([char for char in text if char not in string.punctuation]).lower()\n",
    "\n",
    "data['Cleaned_Message'] = data['Message'].apply(clean_text)\n",
    "\n",
    "def preprocess_text(text):\n",
    "    # Tokenizing, removing stopwords, and performing stemming\n",
    "    words = word_tokenize(text)\n",
    "    stop_words = set(stopwords.words('english'))\n",
    "    stemmer = PorterStemmer()\n",
    "    processed_words = [stemmer.stem(word) for word in words if word.lower() not in stop_words]\n",
    "    return ' '.join(processed_words)\n",
    "\n",
    "# Applying text preprocessing\n",
    "X = data['Cleaned_Message'].apply(preprocess_text)\n",
    "y = data['Category']\n",
    "\n",
    "# Splitting the data into train and test sets\n",
    "X_train, X_test, y_train, y_test = train_test_split(X, y, test_size=0.2, random_state=42)\n",
    "\n",
    "# Using CountVectorizer\n",
    "vectorizer = CountVectorizer()\n",
    "X_train_vectorized = vectorizer.fit_transform(X_train)\n",
    "X_test_vectorized = vectorizer.transform(X_test)"
   ]
  },
  {
   "cell_type": "markdown",
   "metadata": {},
   "source": [
    "DEFAULT PARAMETER SETTINGS FOR SVM AND NAIVE BAYES"
   ]
  },
  {
   "cell_type": "code",
   "execution_count": 45,
   "metadata": {},
   "outputs": [
    {
     "name": "stdout",
     "output_type": "stream",
     "text": [
      "╒═════════════╤════════════╤═════════════╤══════════╤════════════╤═══════════════╕\n",
      "│ Model       │ Accuracy   │ Precision   │ Recall   │ F1 Score   │ Specificity   │\n",
      "╞═════════════╪════════════╪═════════════╪══════════╪════════════╪═══════════════╡\n",
      "│ SVM         │ 98.4753%   │ 99.2537%    │ 89.2617% │ 93.9929%   │ 99.8965%      │\n",
      "├─────────────┼────────────┼─────────────┼──────────┼────────────┼───────────────┤\n",
      "│ Naive Bayes │ 98.3857%   │ 97.1223%    │ 90.6040% │ 93.7500%   │ 99.5859%      │\n",
      "╘═════════════╧════════════╧═════════════╧══════════╧════════════╧═══════════════╛\n"
     ]
    }
   ],
   "source": [
    "def train_model(model, X_train, y_train, X_test):\n",
    "    model.fit(X_train, y_train)\n",
    "    return model.predict(X_test)\n",
    "\n",
    "def calculate_metrics(y_test, predictions):\n",
    "    accuracy = accuracy_score(y_test, predictions)\n",
    "    precision = precision_score(y_test, predictions)\n",
    "    recall = recall_score(y_test, predictions)\n",
    "    f1 = f1_score(y_test, predictions)\n",
    "    tn, fp, fn, tp = confusion_matrix(y_test, predictions).ravel()\n",
    "    specificity = tn / (tn + fp)\n",
    "    return [accuracy, precision, recall, f1, specificity]\n",
    "\n",
    "def print_table(model_name, metrics):\n",
    "    row = [model_name] + [\"{:.4f}%\".format(m * 100) for m in metrics]\n",
    "    return row\n",
    "\n",
    "svm_model = SVC(kernel='linear', random_state=42)\n",
    "svm_pred = train_model(svm_model, X_train_vectorized, y_train, X_test_vectorized)\n",
    "svm_metrics = calculate_metrics(y_test, svm_pred)\n",
    "\n",
    "nb_model = MultinomialNB()\n",
    "nb_pred = train_model(nb_model, X_train_vectorized, y_train, X_test_vectorized)\n",
    "nb_metrics = calculate_metrics(y_test, nb_pred)\n",
    "\n",
    "data = [print_table(\"SVM\", svm_metrics), print_table(\"Naive Bayes\", nb_metrics)]\n",
    "\n",
    "headers = [\"Model\", \"Accuracy\", \"Precision\", \"Recall\", \"F1 Score\", \"Specificity\"]\n",
    "table = tabulate(data, headers, tablefmt=\"fancy_grid\")\n",
    "print(table)"
   ]
  },
  {
   "cell_type": "markdown",
   "metadata": {},
   "source": [
    "BAYESIAN OPTIMIZATION PARAMETER TUNING FOR SVM AND NAIVE BAYES"
   ]
  },
  {
   "cell_type": "code",
   "execution_count": 46,
   "metadata": {},
   "outputs": [
    {
     "name": "stdout",
     "output_type": "stream",
     "text": [
      "|   iter    |  target   |     C     |   gamma   |  kernel   |\n",
      "-------------------------------------------------------------\n",
      "| \u001b[0m1        \u001b[0m | \u001b[0m0.9058   \u001b[0m | \u001b[0m3.752    \u001b[0m | \u001b[0m0.9508   \u001b[0m | \u001b[0m0.732    \u001b[0m |\n",
      "| \u001b[95m2        \u001b[0m | \u001b[95m0.9659   \u001b[0m | \u001b[95m5.991    \u001b[0m | \u001b[95m0.1569   \u001b[0m | \u001b[95m0.156    \u001b[0m |\n",
      "| \u001b[0m3        \u001b[0m | \u001b[0m0.8744   \u001b[0m | \u001b[0m0.5903   \u001b[0m | \u001b[0m0.8663   \u001b[0m | \u001b[0m0.6011   \u001b[0m |\n",
      "| \u001b[95m4        \u001b[0m | \u001b[95m0.983    \u001b[0m | \u001b[95m7.084    \u001b[0m | \u001b[95m0.02156  \u001b[0m | \u001b[95m0.9699   \u001b[0m |\n",
      "| \u001b[0m5        \u001b[0m | \u001b[0m0.9525   \u001b[0m | \u001b[0m8.326    \u001b[0m | \u001b[0m0.2131   \u001b[0m | \u001b[0m0.1818   \u001b[0m |\n",
      "| \u001b[0m6        \u001b[0m | \u001b[0m0.9049   \u001b[0m | \u001b[0m6.88     \u001b[0m | \u001b[0m1.0      \u001b[0m | \u001b[0m1.0      \u001b[0m |\n",
      "| \u001b[0m7        \u001b[0m | \u001b[0m0.983    \u001b[0m | \u001b[0m7.112    \u001b[0m | \u001b[0m0.02232  \u001b[0m | \u001b[0m0.9983   \u001b[0m |\n",
      "| \u001b[95m8        \u001b[0m | \u001b[95m0.9874   \u001b[0m | \u001b[95m7.158    \u001b[0m | \u001b[95m0.001    \u001b[0m | \u001b[95m0.0      \u001b[0m |\n",
      "| \u001b[0m9        \u001b[0m | \u001b[0m0.9695   \u001b[0m | \u001b[0m10.0     \u001b[0m | \u001b[0m0.001    \u001b[0m | \u001b[0m1.0      \u001b[0m |\n",
      "| \u001b[0m10       \u001b[0m | \u001b[0m0.9049   \u001b[0m | \u001b[0m10.0     \u001b[0m | \u001b[0m1.0      \u001b[0m | \u001b[0m5.551e-17\u001b[0m |\n",
      "| \u001b[0m11       \u001b[0m | \u001b[0m0.9677   \u001b[0m | \u001b[0m8.728    \u001b[0m | \u001b[0m0.001    \u001b[0m | \u001b[0m1.0      \u001b[0m |\n",
      "| \u001b[0m12       \u001b[0m | \u001b[0m0.9623   \u001b[0m | \u001b[0m5.383    \u001b[0m | \u001b[0m0.001    \u001b[0m | \u001b[0m1.0      \u001b[0m |\n",
      "| \u001b[0m13       \u001b[0m | \u001b[0m0.9874   \u001b[0m | \u001b[0m4.766    \u001b[0m | \u001b[0m0.001    \u001b[0m | \u001b[0m0.0      \u001b[0m |\n",
      "| \u001b[0m14       \u001b[0m | \u001b[0m0.9874   \u001b[0m | \u001b[0m3.753    \u001b[0m | \u001b[0m0.001    \u001b[0m | \u001b[0m0.0      \u001b[0m |\n",
      "| \u001b[0m15       \u001b[0m | \u001b[0m0.9874   \u001b[0m | \u001b[0m2.606    \u001b[0m | \u001b[0m0.001    \u001b[0m | \u001b[0m0.0      \u001b[0m |\n",
      "| \u001b[0m16       \u001b[0m | \u001b[0m0.948    \u001b[0m | \u001b[0m2.544    \u001b[0m | \u001b[0m0.001    \u001b[0m | \u001b[0m1.0      \u001b[0m |\n",
      "| \u001b[95m17       \u001b[0m | \u001b[95m0.9883   \u001b[0m | \u001b[95m2.452    \u001b[0m | \u001b[95m1.0      \u001b[0m | \u001b[95m0.0      \u001b[0m |\n",
      "| \u001b[0m18       \u001b[0m | \u001b[0m0.9874   \u001b[0m | \u001b[0m5.149    \u001b[0m | \u001b[0m1.0      \u001b[0m | \u001b[0m0.0      \u001b[0m |\n",
      "| \u001b[0m19       \u001b[0m | \u001b[0m0.9874   \u001b[0m | \u001b[0m1.926    \u001b[0m | \u001b[0m0.3438   \u001b[0m | \u001b[0m0.0      \u001b[0m |\n",
      "| \u001b[0m20       \u001b[0m | \u001b[0m0.9874   \u001b[0m | \u001b[0m4.509    \u001b[0m | \u001b[0m0.6345   \u001b[0m | \u001b[0m0.0      \u001b[0m |\n",
      "=============================================================\n"
     ]
    }
   ],
   "source": [
    "def train_model_with_params(C, gamma, kernel):\n",
    "    \"\"\"Train the model with given hyperparameters and return the accuracy\"\"\"\n",
    "    model = SVC(C=C, gamma=gamma, kernel='linear' if kernel == 0 else 'rbf', random_state=42)\n",
    "    model.fit(X_train_vectorized, y_train)\n",
    "    predictions = model.predict(X_test_vectorized)\n",
    "    return accuracy_score(y_test, predictions)\n",
    "\n",
    "search_space = {'C': (0.01, 10), 'gamma': (0.001, 1), 'kernel': (0, 1)}\n",
    "optimizer = BayesianOptimization(f=train_model_with_params, pbounds=search_space, random_state=42, verbose=2)\n",
    "optimizer.maximize(init_points=5, n_iter=15)\n",
    "\n",
    "# Get the best parameters from Bayesian optimization\n",
    "best_params = optimizer.max\n",
    "\n",
    "# Adjusting the 'kernel' parameter to correspond with the SVC parameter\n",
    "best_params['params']['kernel'] = 'linear' if best_params['params']['kernel'] < 0.5 else 'rbf'\n",
    "\n",
    "# Train the SVM model with the best hyperparameters\n",
    "best_model = SVC(**best_params['params'], random_state=42)\n",
    "best_model.fit(X_train_vectorized, y_train)\n",
    "predictions_with_best_params = best_model.predict(X_test_vectorized)"
   ]
  },
  {
   "cell_type": "code",
   "execution_count": 47,
   "metadata": {},
   "outputs": [
    {
     "name": "stdout",
     "output_type": "stream",
     "text": [
      "|   iter    |  target   |   alpha   |\n",
      "-------------------------------------\n",
      "| \u001b[0m1        \u001b[0m | \u001b[0m0.9848   \u001b[0m | \u001b[0m0.3808   \u001b[0m |\n",
      "| \u001b[0m2        \u001b[0m | \u001b[0m0.9839   \u001b[0m | \u001b[0m0.9512   \u001b[0m |\n",
      "| \u001b[0m3        \u001b[0m | \u001b[0m0.9839   \u001b[0m | \u001b[0m0.7347   \u001b[0m |\n",
      "| \u001b[0m4        \u001b[0m | \u001b[0m0.9839   \u001b[0m | \u001b[0m0.6027   \u001b[0m |\n",
      "| \u001b[0m5        \u001b[0m | \u001b[0m0.9848   \u001b[0m | \u001b[0m0.1645   \u001b[0m |\n",
      "| \u001b[0m6        \u001b[0m | \u001b[0m0.9821   \u001b[0m | \u001b[0m0.01     \u001b[0m |\n",
      "| \u001b[0m7        \u001b[0m | \u001b[0m0.9848   \u001b[0m | \u001b[0m0.1644   \u001b[0m |\n",
      "| \u001b[0m8        \u001b[0m | \u001b[0m0.9848   \u001b[0m | \u001b[0m0.2858   \u001b[0m |\n",
      "| \u001b[0m9        \u001b[0m | \u001b[0m0.9848   \u001b[0m | \u001b[0m0.4748   \u001b[0m |\n",
      "| \u001b[0m10       \u001b[0m | \u001b[0m0.9848   \u001b[0m | \u001b[0m0.2242   \u001b[0m |\n",
      "| \u001b[0m11       \u001b[0m | \u001b[0m0.9839   \u001b[0m | \u001b[0m0.8427   \u001b[0m |\n",
      "| \u001b[0m12       \u001b[0m | \u001b[0m0.9848   \u001b[0m | \u001b[0m0.4304   \u001b[0m |\n",
      "| \u001b[0m13       \u001b[0m | \u001b[0m0.9848   \u001b[0m | \u001b[0m0.3321   \u001b[0m |\n",
      "| \u001b[0m14       \u001b[0m | \u001b[0m0.9848   \u001b[0m | \u001b[0m0.1906   \u001b[0m |\n",
      "| \u001b[0m15       \u001b[0m | \u001b[0m0.9848   \u001b[0m | \u001b[0m0.5137   \u001b[0m |\n",
      "| \u001b[0m16       \u001b[0m | \u001b[0m0.9848   \u001b[0m | \u001b[0m0.2556   \u001b[0m |\n",
      "| \u001b[0m17       \u001b[0m | \u001b[0m0.9848   \u001b[0m | \u001b[0m0.4057   \u001b[0m |\n",
      "| \u001b[0m18       \u001b[0m | \u001b[0m0.9848   \u001b[0m | \u001b[0m0.4966   \u001b[0m |\n",
      "| \u001b[0m19       \u001b[0m | \u001b[0m0.9848   \u001b[0m | \u001b[0m0.3551   \u001b[0m |\n",
      "| \u001b[0m20       \u001b[0m | \u001b[0m0.9848   \u001b[0m | \u001b[0m0.3082   \u001b[0m |\n",
      "=====================================\n"
     ]
    }
   ],
   "source": [
    "def train_model_with_alpha(alpha):\n",
    "    \"\"\"Train the model with given hyperparameters and return the accuracy\"\"\"\n",
    "    model = MultinomialNB(alpha=alpha)\n",
    "    model.fit(X_train_vectorized, y_train)\n",
    "    predictions = model.predict(X_test_vectorized)\n",
    "    return accuracy_score(y_test, predictions)\n",
    "\n",
    "nb_search_space = {'alpha': (0.01, 1)}\n",
    "nb_optimizer = BayesianOptimization(f=train_model_with_alpha, pbounds=nb_search_space, random_state=42, verbose=2)\n",
    "nb_optimizer.maximize(init_points=5, n_iter=15)\n",
    "\n",
    "# Get the best parameter from Bayesian optimization\n",
    "best_params = nb_optimizer.max\n",
    "\n",
    "# Train the Naive Bayes model with the best hyperparameters\n",
    "best_model = MultinomialNB(**best_params['params'])\n",
    "best_model.fit(X_train_vectorized, y_train)\n",
    "nb_predictions_with_best_params = best_model.predict(X_test_vectorized)"
   ]
  },
  {
   "cell_type": "code",
   "execution_count": 48,
   "metadata": {},
   "outputs": [
    {
     "name": "stdout",
     "output_type": "stream",
     "text": [
      "╒══════════════════════════════╤════════════╤═════════════╤══════════╤════════════╤═══════════════╕\n",
      "│ Model                        │ Accuracy   │ Precision   │ Recall   │ F1 Score   │ Specificity   │\n",
      "╞══════════════════════════════╪════════════╪═════════════╪══════════╪════════════╪═══════════════╡\n",
      "│ Support Vector Machine (SVM) │ 98.4753%   │ 99.2537%    │ 89.2617% │ 93.9929%   │ 99.8965%      │\n",
      "├──────────────────────────────┼────────────┼─────────────┼──────────┼────────────┼───────────────┤\n",
      "│ Naive Bayes                  │ 98.3857%   │ 97.1223%    │ 90.6040% │ 93.7500%   │ 99.5859%      │\n",
      "├──────────────────────────────┼────────────┼─────────────┼──────────┼────────────┼───────────────┤\n",
      "│ Bayes Optimized SVM          │ 98.8341%   │ 99.2754%    │ 91.9463% │ 95.4704%   │ 99.8965%      │\n",
      "├──────────────────────────────┼────────────┼─────────────┼──────────┼────────────┼───────────────┤\n",
      "│ Bayes Optimized Naive Bayes  │ 98.4753%   │ 97.1429%    │ 91.2752% │ 93.7500%   │ 99.5859%      │\n",
      "╘══════════════════════════════╧════════════╧═════════════╧══════════╧════════════╧═══════════════╛\n"
     ]
    }
   ],
   "source": [
    "# Support Vector Machine (SVM)\n",
    "svm_accuracy_bayes = accuracy_score(y_test, svm_pred_bayes)\n",
    "svm_precision_bayes = precision_score(y_test, svm_pred_bayes)\n",
    "svm_recall_bayes = recall_score(y_test, svm_pred_bayes)\n",
    "svm_f1_bayes = f1_score(y_test, svm_pred_bayes)\n",
    "tn, fp, fn, tp = confusion_matrix(y_test, svm_pred_bayes).ravel()\n",
    "svm_bayes_specificity = tn / (tn + fp)\n",
    "# Naive Bayes\n",
    "nb_accuracy_bayes = accuracy_score(y_test, nb_pred_bayes)\n",
    "nb_precision_bayes = precision_score(y_test, nb_pred_bayes)\n",
    "nb_recall_bayes = recall_score(y_test, nb_pred_bayes)\n",
    "nb_f1_bayes = f1_score(y_test, nb_pred_bayes)\n",
    "tn, fp, fn, tp = confusion_matrix(y_test, nb_pred_bayes).ravel()\n",
    "nb_bayes_specificity = tn / (tn + fp)\n",
    "\n",
    "data = [\n",
    "    [\"Support Vector Machine (SVM)\", \"{:.4f}%\".format(svm_accuracy * 100), \"{:.4f}%\".format(\n",
    "        svm_precision * 100), \"{:.4f}%\".format(svm_recall * 100), \"{:.4f}%\".format(svm_f1 * 100), \"{:.4f}%\".format(svm_specificity * 100)],\n",
    "    [\"Naive Bayes\", \"{:.4f}%\".format(nb_accuracy * 100), \"{:.4f}%\".format(\n",
    "        nb_precision * 100), \"{:.4f}%\".format(nb_recall * 100), \"{:.4f}%\".format(nb_f1 * 100), \"{:.4f}%\".format(nb_specificity * 100)],\n",
    "    [\"Bayes Optimized SVM\", \"{:.4f}%\".format(svm_accuracy_bayes * 100), \"{:.4f}%\".format(\n",
    "        svm_precision_bayes * 100), \"{:.4f}%\".format(svm_recall_bayes * 100), \"{:.4f}%\".format(svm_f1_bayes * 100), \"{:.4f}%\".format(svm_bayes_specificity * 100)],\n",
    "    [\"Bayes Optimized Naive Bayes\", \"{:.4f}%\".format(nb_accuracy_bayes * 100), \"{:.4f}%\".format(\n",
    "        nb_precision_bayes * 100), \"{:.4f}%\".format(nb_recall_bayes * 100), \"{:.4f}%\".format(nb_f1 * 100), \"{:.4f}%\".format(nb_bayes_specificity * 100)]\n",
    "]\n",
    "\n",
    "# Menentukan header tabel\n",
    "headers = [\"Model\", \"Accuracy\", \"Precision\", \"Recall\", \"F1 Score\", \"Specificity\"]\n",
    "\n",
    "# Mencetak tabel evaluasi\n",
    "table = tabulate(data, headers, tablefmt=\"fancy_grid\")\n",
    "print(table)"
   ]
  },
  {
   "cell_type": "markdown",
   "metadata": {},
   "source": [
    "GRID SEARCH PARAMETER TUNING FOR SVM AND NAIVE BAYES"
   ]
  },
  {
   "cell_type": "code",
   "execution_count": 49,
   "metadata": {},
   "outputs": [],
   "source": [
    "def param_search(model, param_grid, X_train, y_train):\n",
    "    grid_search = GridSearchCV(model, param_grid, scoring='f1', cv=5)\n",
    "    grid_search.fit(X_train, y_train)\n",
    "    return grid_search.best_estimator_\n",
    "\n",
    "svm_param_grid = {\n",
    "    'C': [0.01, 0.1, 1, 10],\n",
    "    'gamma': [0.001, 0.01, 0.1, 1],\n",
    "    'kernel': ['linear', 'rbf']\n",
    "}\n",
    "\n",
    "nb_param_grid = {\n",
    "    'alpha': [0.01, 0.1, 0.5, 1]\n",
    "}\n",
    "\n",
    "svm_best_model = param_search(SVC(random_state=42), svm_param_grid, X_train_vectorized, y_train)\n",
    "svm_pred_grid = svm_best_model.predict(X_test_vectorized)\n",
    "\n",
    "nb_best_model = param_search(MultinomialNB(), nb_param_grid, X_train_vectorized, y_train)\n",
    "nb_pred_grid = nb_best_model.predict(X_test_vectorized)"
   ]
  },
  {
   "cell_type": "code",
   "execution_count": 50,
   "metadata": {},
   "outputs": [
    {
     "name": "stdout",
     "output_type": "stream",
     "text": [
      "╒═══════════════════════════════════╤════════════╤═════════════╤══════════╤════════════╤═══════════════╕\n",
      "│ Model                             │ Accuracy   │ Precision   │ Recall   │ F1 Score   │ Specificity   │\n",
      "╞═══════════════════════════════════╪════════════╪═════════════╪══════════╪════════════╪═══════════════╡\n",
      "│ Support Vector Machine (SVM)      │ 98.4753%   │ 99.2537%    │ 89.2617% │ 93.9929%   │ 99.8965%      │\n",
      "├───────────────────────────────────┼────────────┼─────────────┼──────────┼────────────┼───────────────┤\n",
      "│ Naive Bayes                       │ 98.3857%   │ 97.1223%    │ 90.6040% │ 93.7500%   │ 99.5859%      │\n",
      "├───────────────────────────────────┼────────────┼─────────────┼──────────┼────────────┼───────────────┤\n",
      "│ Bayes Optimized SVM               │ 98.8341%   │ 99.2754%    │ 91.9463% │ 95.4704%   │ 99.8965%      │\n",
      "├───────────────────────────────────┼────────────┼─────────────┼──────────┼────────────┼───────────────┤\n",
      "│ Bayes Optimized Naive Bayes       │ 98.4753%   │ 97.1429%    │ 91.2752% │ 93.7500%   │ 99.5859%      │\n",
      "├───────────────────────────────────┼────────────┼─────────────┼──────────┼────────────┼───────────────┤\n",
      "│ Grid Support Vector Machine (SVM) │ 98.4753%   │ 99.2537%    │ 89.2617% │ 93.9929%   │ 99.8965%      │\n",
      "├───────────────────────────────────┼────────────┼─────────────┼──────────┼────────────┼───────────────┤\n",
      "│ Grid Naive Bayes                  │ 98.3857%   │ 97.1223%    │ 90.6040% │ 93.7500%   │ 99.5859%      │\n",
      "╘═══════════════════════════════════╧════════════╧═════════════╧══════════╧════════════╧═══════════════╛\n"
     ]
    }
   ],
   "source": [
    "# Calculate accuracy, precision, recall, and F1 score for SVM\n",
    "svm_accuracy_grid = accuracy_score(y_test, svm_pred_grid)\n",
    "svm_precision_grid = precision_score(y_test, svm_pred_grid)\n",
    "svm_recall_grid = recall_score(y_test, svm_pred_grid)\n",
    "svm_f1_grid = f1_score(y_test, svm_pred_grid)\n",
    "tn, fp, fn, tp = confusion_matrix(y_test, svm_pred_grid).ravel()\n",
    "svm_grid_specificity = tn / (tn + fp)\n",
    "# Calculate accuracy, precision, recall, and F1 score for Naive Bayes\n",
    "nb_accuracy_grid = accuracy_score(y_test, nb_pred_grid)\n",
    "nb_precision_grid = precision_score(y_test, nb_pred_grid)\n",
    "nb_recall_grid = recall_score(y_test, nb_pred_grid)\n",
    "nb_f1_grid = f1_score(y_test, nb_pred_grid)\n",
    "tn, fp, fn, tp = confusion_matrix(y_test, nb_pred_grid).ravel()\n",
    "nb_grid_specificity = tn / (tn + fp)\n",
    "\n",
    "# Mengatur data evaluasi dalam bentuk tabel\n",
    "data = [\n",
    "    [\"Support Vector Machine (SVM)\", \"{:.4f}%\".format(svm_accuracy * 100), \"{:.4f}%\".format(\n",
    "        svm_precision * 100), \"{:.4f}%\".format(svm_recall * 100), \"{:.4f}%\".format(svm_f1 * 100), \"{:.4f}%\".format(svm_specificity * 100)],\n",
    "    [\"Naive Bayes\", \"{:.4f}%\".format(nb_accuracy * 100), \"{:.4f}%\".format(\n",
    "        nb_precision * 100), \"{:.4f}%\".format(nb_recall * 100), \"{:.4f}%\".format(nb_f1 * 100), \"{:.4f}%\".format(nb_specificity * 100)],\n",
    "    [\"Bayes Optimized SVM\", \"{:.4f}%\".format(svm_accuracy_bayes * 100), \"{:.4f}%\".format(\n",
    "        svm_precision_bayes * 100), \"{:.4f}%\".format(svm_recall_bayes * 100), \"{:.4f}%\".format(svm_f1_bayes * 100), \"{:.4f}%\".format(svm_bayes_specificity * 100)],\n",
    "    [\"Bayes Optimized Naive Bayes\", \"{:.4f}%\".format(nb_accuracy_bayes * 100), \"{:.4f}%\".format(\n",
    "        nb_precision_bayes * 100), \"{:.4f}%\".format(nb_recall_bayes * 100), \"{:.4f}%\".format(nb_f1 * 100), \"{:.4f}%\".format(nb_bayes_specificity * 100)],\n",
    "    [\"Grid Support Vector Machine (SVM)\", \"{:.4f}%\".format(svm_accuracy_grid * 100), \"{:.4f}%\".format(svm_precision_grid * 100),\n",
    "     \"{:.4f}%\".format(svm_recall_grid * 100), \"{:.4f}%\".format(svm_f1_grid * 100), \"{:.4f}%\".format(svm_grid_specificity * 100)],\n",
    "    [\"Grid Naive Bayes\", \"{:.4f}%\".format(nb_accuracy_grid * 100), \"{:.4f}%\".format(nb_precision_grid * 100),\n",
    "     \"{:.4f}%\".format(nb_recall_grid * 100), \"{:.4f}%\".format(nb_f1_grid * 100), \"{:.4f}%\".format(nb_grid_specificity * 100)]\n",
    "]\n",
    "\n",
    "# Menentukan header tabel\n",
    "headers = [\"Model\", \"Accuracy\", \"Precision\", \"Recall\", \"F1 Score\", \"Specificity\"]\n",
    "\n",
    "# Mencetak tabel evaluasi\n",
    "table = tabulate(data, headers, tablefmt=\"fancy_grid\")\n",
    "print(table)"
   ]
  }
 ],
 "metadata": {
  "kernelspec": {
   "display_name": "Python 3",
   "language": "python",
   "name": "python3"
  },
  "language_info": {
   "codemirror_mode": {
    "name": "ipython",
    "version": 3
   },
   "file_extension": ".py",
   "mimetype": "text/x-python",
   "name": "python",
   "nbconvert_exporter": "python",
   "pygments_lexer": "ipython3",
   "version": "3.11.3"
  }
 },
 "nbformat": 4,
 "nbformat_minor": 2
}
